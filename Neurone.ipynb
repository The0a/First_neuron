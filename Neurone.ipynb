{
 "cells": [
  {
   "cell_type": "markdown",
   "id": "d2fc7445",
   "metadata": {},
   "source": [
    "# First neuron and functions"
   ]
  },
  {
   "cell_type": "code",
   "execution_count": 1,
   "id": "a291b8f9",
   "metadata": {},
   "outputs": [],
   "source": [
    "import numpy as np\n",
    "import matplotlib.pyplot as plt\n",
    "from sklearn.datasets import make_blobs\n",
    "from sklearn.metrics import accuracy_score"
   ]
  },
  {
   "cell_type": "code",
   "execution_count": 2,
   "id": "b5506feb",
   "metadata": {},
   "outputs": [
    {
     "name": "stdout",
     "output_type": "stream",
     "text": [
      "dimension de X :  (100, 2)\n",
      "dimension de y :  (100, 1)\n"
     ]
    },
    {
     "data": {
      "image/png": "[encoded data removed]",
      "text/plain": [
       "<Figure size 432x288 with 1 Axes>"
      ]
     },
     "metadata": {
      "needs_background": "light"
     },
     "output_type": "display_data"
    }
   ],
   "source": [
    "X, y = make_blobs(n_samples=100, n_features=2, centers=2)\n",
    "y = y.reshape((y.shape[0], 1 ))\n",
    "\n",
    "print('dimension de X : ', X.shape)\n",
    "print('dimension de y : ', y.shape)\n",
    "\n",
    "plt.scatter(X[:,0], X[:,1], c=y, cmap='summer')\n",
    "plt.show()"
   ]
  },
  {
   "cell_type": "code",
   "execution_count": 3,
   "id": "fc7a0e38",
   "metadata": {},
   "outputs": [],
   "source": [
    "def initialisation(X):\n",
    "    W = np.random.randn(X.shape[1], 1)\n",
    "    b = np.random.randn(1)\n",
    "    return(W, b)"
   ]
  },
  {
   "cell_type": "code",
   "execution_count": 4,
   "id": "bd56ba77",
   "metadata": {},
   "outputs": [],
   "source": [
    "def model(X, W, b):\n",
    "    Z = X.dot(W) + b\n",
    "    A = 1 / (1 + np.exp(-Z))\n",
    "    return A"
   ]
  },
  {
   "cell_type": "markdown",
   "id": "991a8e64",
   "metadata": {},
   "source": [
    "To avoid a problem with log(0), we use epsilon that is 1e-15"
   ]
  },
  {
   "cell_type": "code",
   "execution_count": 5,
   "id": "724c723d",
   "metadata": {},
   "outputs": [],
   "source": [
    "def log_loss(A, y):\n",
    "    epsilon = 1e-15\n",
    "    return -1 / len(y) * np.sum(y * np.log(A + epsilon) + (1 - y) * np.log(1 - A + epsilon))\n",
    "    "
   ]
  },
  {
   "cell_type": "code",
   "execution_count": 6,
   "id": "d813fa4f",
   "metadata": {},
   "outputs": [],
   "source": [
    "def gradients(A, X, y):\n",
    "    dW = 1 / len(y) * np.dot(X.T, A - y)\n",
    "    db = 1 / len(y) * np.sum(A - y)\n",
    "    return dW, db"
   ]
  },
  {
   "cell_type": "code",
   "execution_count": 7,
   "id": "026ccb81",
   "metadata": {},
   "outputs": [],
   "source": [
    "def predict(X, W, b):\n",
    "    A = model(X, W, b)\n",
    "    return A>= 0.5"
   ]
  },
  {
   "cell_type": "code",
   "execution_count": 8,
   "id": "351d084b",
   "metadata": {},
   "outputs": [],
   "source": [
    "def update(dW, db, W, b, learning_rate):\n",
    "    W = W - learning_rate * dW\n",
    "    b = b - learning_rate * db\n",
    "    return(W, b)"
   ]
  },
  {
   "cell_type": "code",
   "execution_count": 22,
   "id": "e809dc04",
   "metadata": {},
   "outputs": [],
   "source": [
    "def neuron(X, y, learning_rate = 0.01 , iter = 1000):\n",
    "    W, b = initialisation(X)\n",
    "    \n",
    "    loss = []\n",
    "    accuracy = []\n",
    "    \n",
    "    for i in range(iter):\n",
    "        A = model(X, W, b)\n",
    "        \n",
    "        loss.append(log_loss(A, y))\n",
    "        \n",
    "        y_predictions = predict(X, W, b)\n",
    "        accuracy.append(accuracy_score(y, y_predictions))\n",
    "        \n",
    "        dW, db = gradients(A, X, y)\n",
    "        W, b = update(dW, db, W, b, learning_rate)\n",
    "        \n",
    "    plt.figure(figsize=(12,4))\n",
    "    plt.subplot(1, 2, 1)\n",
    "    plt.plot(loss)\n",
    "    plt.subplot(1, 2, 2)\n",
    "    plt.plot(accuracy)\n",
    "    plt.show()\n",
    "    \n",
    "    print('accuracy : ' ,accuracy_score(y, y_predictions)*100, '%')\n",
    "    \n",
    "    return(W, b)"
   ]
  },
  {
   "cell_type": "code",
   "execution_count": 23,
   "id": "6eb6e668",
   "metadata": {},
   "outputs": [
    {
     "data": {
      "image/png": "[encoded data removed]",
      "text/plain": [
       "<Figure size 864x288 with 2 Axes>"
      ]
     },
     "metadata": {
      "needs_background": "light"
     },
     "output_type": "display_data"
    },
    {
     "name": "stdout",
     "output_type": "stream",
     "text": [
      "accuracy :  100.0 %\n"
     ]
    }
   ],
   "source": [
    "W, b = neuron(X, y)"
   ]
  },
  {
   "cell_type": "markdown",
   "id": "84a05081",
   "metadata": {},
   "source": [
    "# Test with photo recognition"
   ]
  },
  {
   "cell_type": "markdown",
   "id": "ab20641e",
   "metadata": {},
   "source": [
    "## Dataset"
   ]
  },
  {
   "cell_type": "code",
   "execution_count": 11,
   "id": "03a64993",
   "metadata": {},
   "outputs": [
    {
     "name": "stdout",
     "output_type": "stream",
     "text": [
      "Requirement already satisfied: h5py in c:\\users\\ara\\anaconda3\\lib\\site-packages (3.2.1)\n",
      "Requirement already satisfied: numpy>=1.19.0 in c:\\users\\ara\\anaconda3\\lib\\site-packages (from h5py) (1.20.3)\n",
      "Could not fetch URL https://pypi.org/simple/pip/: There was a problem confirming the ssl certificate: HTTPSConnectionPool(host='pypi.org', port=443): Max retries exceeded with url: /simple/pip/ (Caused by SSLError(SSLError(1, '[SSL: WRONG_VERSION_NUMBER] wrong version number (_ssl.c:1129)'))) - skipping\n"
     ]
    }
   ],
   "source": [
    "!pip install h5py\n",
    "from utilities import *"
   ]
  },
  {
   "cell_type": "code",
   "execution_count": 12,
   "id": "2ea8cb9e",
   "metadata": {},
   "outputs": [],
   "source": [
    "x_train, y_train, x_test, y_test = load_data()"
   ]
  },
  {
   "cell_type": "code",
   "execution_count": 13,
   "id": "f7af88a1",
   "metadata": {},
   "outputs": [
    {
     "name": "stdout",
     "output_type": "stream",
     "text": [
      "(1000, 64, 64)\n",
      "(1000, 1)\n",
      "(array([0., 1.]), array([500, 500], dtype=int64))\n"
     ]
    }
   ],
   "source": [
    "print(x_train.shape)\n",
    "print(y_train.shape)\n",
    "print(np.unique(y_train, return_counts=True))"
   ]
  },
  {
   "cell_type": "code",
   "execution_count": 14,
   "id": "e9df285b",
   "metadata": {},
   "outputs": [
    {
     "name": "stdout",
     "output_type": "stream",
     "text": [
      "(200, 64, 64)\n",
      "(200, 1)\n",
      "(array([0., 1.]), array([100, 100], dtype=int64))\n"
     ]
    }
   ],
   "source": [
    "print(x_test.shape)\n",
    "print(y_test.shape)\n",
    "print(np.unique(y_test, return_counts=True))"
   ]
  },
  {
   "cell_type": "markdown",
   "id": "d8a412a0",
   "metadata": {},
   "source": [
    "## Training of the model"
   ]
  },
  {
   "cell_type": "markdown",
   "id": "03a8f8b1",
   "metadata": {},
   "source": [
    "The function works with array of 2 dimensions but with the images, there is 3 dimensions : number of images, pixels on x, pixels on y (1000, 64, 64).\n",
    "So we need to reshape our dataset to fit."
   ]
  },
  {
   "cell_type": "code",
   "execution_count": 15,
   "id": "69fb7876",
   "metadata": {},
   "outputs": [
    {
     "data": {
      "text/plain": [
       "(1000, 4096)"
      ]
     },
     "execution_count": 15,
     "metadata": {},
     "output_type": "execute_result"
    }
   ],
   "source": [
    "x_train_reshape = x_train.reshape(x_train.shape[0], -1)\n",
    "x_train_reshape.shape"
   ]
  },
  {
   "cell_type": "code",
   "execution_count": 16,
   "id": "be3f64a1",
   "metadata": {},
   "outputs": [
    {
     "data": {
      "text/plain": [
       "(200, 4096)"
      ]
     },
     "execution_count": 16,
     "metadata": {},
     "output_type": "execute_result"
    }
   ],
   "source": [
    "x_test_reshape = x_test.reshape(x_test.shape[0], -1)\n",
    "x_test_reshape.shape"
   ]
  },
  {
   "cell_type": "code",
   "execution_count": 24,
   "id": "33e98214",
   "metadata": {},
   "outputs": [
    {
     "data": {
      "image/png": "[encoded data removed]",
      "text/plain": [
       "<Figure size 864x288 with 2 Axes>"
      ]
     },
     "metadata": {
      "needs_background": "light"
     },
     "output_type": "display_data"
    },
    {
     "name": "stdout",
     "output_type": "stream",
     "text": [
      "accuracy :  51.6 %\n"
     ]
    }
   ],
   "source": [
    "W, b = neuron(x_train_reshape, y_train)"
   ]
  },
  {
   "cell_type": "markdown",
   "id": "08c25fc8",
   "metadata": {},
   "source": [
    "As we can see, the cost function can't converge to a value because the variables are not normalised.\n",
    "One goes from 16 to 18 and the other from 0 to 100. "
   ]
  },
  {
   "cell_type": "markdown",
   "id": "848928c0",
   "metadata": {},
   "source": [
    "## MinMax normalisation"
   ]
  },
  {
   "cell_type": "code",
   "execution_count": 18,
   "id": "21d7e999",
   "metadata": {},
   "outputs": [
    {
     "data": {
      "text/plain": [
       "(1000, 4096)"
      ]
     },
     "execution_count": 18,
     "metadata": {},
     "output_type": "execute_result"
    }
   ],
   "source": [
    "x_train_reshape = x_train.reshape(x_train.shape[0], -1) / x_train.max()\n",
    "x_train_reshape.shape"
   ]
  },
  {
   "cell_type": "code",
   "execution_count": 19,
   "id": "6ddc4c11",
   "metadata": {},
   "outputs": [
    {
     "data": {
      "text/plain": [
       "(200, 4096)"
      ]
     },
     "execution_count": 19,
     "metadata": {},
     "output_type": "execute_result"
    }
   ],
   "source": [
    "x_test_reshape = x_test.reshape(x_test.shape[0], -1) / x_train.max()\n",
    "x_test_reshape.shape"
   ]
  },
  {
   "cell_type": "code",
   "execution_count": 25,
   "id": "4feba4da",
   "metadata": {},
   "outputs": [
    {
     "data": {
      "image/png": "[encoded data removed]",
      "text/plain": [
       "<Figure size 864x288 with 2 Axes>"
      ]
     },
     "metadata": {
      "needs_background": "light"
     },
     "output_type": "display_data"
    },
    {
     "name": "stdout",
     "output_type": "stream",
     "text": [
      "accuracy :  56.00000000000001 %\n"
     ]
    }
   ],
   "source": [
    "W, b = neuron(x_train_reshape, y_train)"
   ]
  },
  {
   "cell_type": "markdown",
   "id": "154d969c",
   "metadata": {},
   "source": []
  },
  {
   "cell_type": "code",
   "execution_count": null,
   "id": "e1f67330",
   "metadata": {},
   "outputs": [],
   "source": []
  },
  {
   "cell_type": "code",
   "execution_count": null,
   "id": "a7d712c9",
   "metadata": {},
   "outputs": [],
   "source": []
  },
  {
   "cell_type": "code",
   "execution_count": null,
   "id": "a6c9d7e3",
   "metadata": {},
   "outputs": [],
   "source": []
  },
  {
   "cell_type": "code",
   "execution_count": null,
   "id": "be3c03ae",
   "metadata": {},
   "outputs": [],
   "source": []
  }
 ],
 "metadata": {
  "kernelspec": {
   "display_name": "Python 3 (ipykernel)",
   "language": "python",
   "name": "python3"
  },
  "language_info": {
   "codemirror_mode": {
    "name": "ipython",
    "version": 3
   },
   "file_extension": ".py",
   "mimetype": "text/x-python",
   "name": "python",
   "nbconvert_exporter": "python",
   "pygments_lexer": "ipython3",
   "version": "3.9.7"
  }
 },
 "nbformat": 4,
 "nbformat_minor": 5
}
